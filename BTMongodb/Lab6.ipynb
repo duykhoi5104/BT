{
 "cells": [
  {
   "cell_type": "code",
   "execution_count": 11,
   "metadata": {},
   "outputs": [
    {
     "name": "stdout",
     "output_type": "stream",
     "text": [
      "Requirement already satisfied: pymongo in c:\\users\\khoi0\\appdata\\local\\programs\\python\\python311\\lib\\site-packages (4.10.1)\n",
      "Requirement already satisfied: dnspython<3.0.0,>=1.16.0 in c:\\users\\khoi0\\appdata\\local\\programs\\python\\python311\\lib\\site-packages (from pymongo) (2.7.0)\n",
      "Note: you may need to restart the kernel to use updated packages.\n"
     ]
    }
   ],
   "source": [
    "pip install pymongo\n"
   ]
  },
  {
   "cell_type": "code",
   "execution_count": 12,
   "metadata": {},
   "outputs": [
    {
     "data": {
      "text/plain": [
       "InsertManyResult([ObjectId('670de259695b6ca1f22d515e'), ObjectId('670de259695b6ca1f22d515f'), ObjectId('670de259695b6ca1f22d5160'), ObjectId('670de259695b6ca1f22d5161'), ObjectId('670de259695b6ca1f22d5162')], acknowledged=True)"
      ]
     },
     "execution_count": 12,
     "metadata": {},
     "output_type": "execute_result"
    }
   ],
   "source": [
    "from pymongo import MongoClient\n",
    "from datetime import datetime\n",
    "\n",
    "# Kết nối với MongoDB\n",
    "client = MongoClient('mongodb://localhost:27017/')\n",
    "client.drop_database('driveManagement')\n",
    "db = client['driveManagement']  # Tạo cơ sở dữ liệu 'driveManagement'\n",
    "\n",
    "# Tạo bộ sưu tập 'files' và thêm dữ liệu\n",
    "db.files.insert_many([\n",
    "    { 'file_id': 1, 'name': \"Report.pdf\", 'size': 2048, 'owner': \"Nguyen Van A\", 'created_at': datetime(2024, 1, 10), 'shared': False },\n",
    "    { 'file_id': 2, 'name': \"Presentation.pptx\", 'size': 5120, 'owner': \"Tran Thi B\", 'created_at': datetime(2024, 1, 15), 'shared': True },\n",
    "    { 'file_id': 3, 'name': \"Image.png\", 'size': 1024, 'owner': \"Le Van C\", 'created_at': datetime(2024, 1, 20), 'shared': False },\n",
    "    { 'file_id': 4, 'name': \"Spreadsheet.xlsx\", 'size': 3072, 'owner': \"Pham Van D\", 'created_at': datetime(2024, 1, 25), 'shared': True },\n",
    "    { 'file_id': 5, 'name': \"Notes.txt\", 'size': 512, 'owner': \"Nguyen Thi E\", 'created_at': datetime(2024, 1, 30), 'shared': False }\n",
    "])\n"
   ]
  },
  {
   "cell_type": "code",
   "execution_count": 13,
   "metadata": {},
   "outputs": [
    {
     "name": "stdout",
     "output_type": "stream",
     "text": [
      "{'_id': ObjectId('670de259695b6ca1f22d515e'), 'file_id': 1, 'name': 'Report.pdf', 'size': 2048, 'owner': 'Nguyen Van A', 'created_at': datetime.datetime(2024, 1, 10, 0, 0), 'shared': False}\n",
      "{'_id': ObjectId('670de259695b6ca1f22d515f'), 'file_id': 2, 'name': 'Presentation.pptx', 'size': 5120, 'owner': 'Tran Thi B', 'created_at': datetime.datetime(2024, 1, 15, 0, 0), 'shared': True}\n",
      "{'_id': ObjectId('670de259695b6ca1f22d5160'), 'file_id': 3, 'name': 'Image.png', 'size': 1024, 'owner': 'Le Van C', 'created_at': datetime.datetime(2024, 1, 20, 0, 0), 'shared': False}\n",
      "{'_id': ObjectId('670de259695b6ca1f22d5161'), 'file_id': 4, 'name': 'Spreadsheet.xlsx', 'size': 3072, 'owner': 'Pham Van D', 'created_at': datetime.datetime(2024, 1, 25, 0, 0), 'shared': True}\n",
      "{'_id': ObjectId('670de259695b6ca1f22d5162'), 'file_id': 5, 'name': 'Notes.txt', 'size': 512, 'owner': 'Nguyen Thi E', 'created_at': datetime.datetime(2024, 1, 30, 0, 0), 'shared': False}\n"
     ]
    }
   ],
   "source": [
    "for file in db.files.find():\n",
    "    print(file)\n"
   ]
  },
  {
   "cell_type": "code",
   "execution_count": 14,
   "metadata": {},
   "outputs": [
    {
     "name": "stdout",
     "output_type": "stream",
     "text": [
      "{'_id': ObjectId('670de259695b6ca1f22d515e'), 'file_id': 1, 'name': 'Report.pdf', 'size': 2048, 'owner': 'Nguyen Van A', 'created_at': datetime.datetime(2024, 1, 10, 0, 0), 'shared': False}\n",
      "{'_id': ObjectId('670de259695b6ca1f22d515f'), 'file_id': 2, 'name': 'Presentation.pptx', 'size': 5120, 'owner': 'Tran Thi B', 'created_at': datetime.datetime(2024, 1, 15, 0, 0), 'shared': True}\n",
      "{'_id': ObjectId('670de259695b6ca1f22d5161'), 'file_id': 4, 'name': 'Spreadsheet.xlsx', 'size': 3072, 'owner': 'Pham Van D', 'created_at': datetime.datetime(2024, 1, 25, 0, 0), 'shared': True}\n"
     ]
    }
   ],
   "source": [
    "for file in db.files.find({ 'size': { '$gt': 2000 } }):\n",
    "    print(file)\n"
   ]
  },
  {
   "cell_type": "code",
   "execution_count": 15,
   "metadata": {},
   "outputs": [
    {
     "name": "stdout",
     "output_type": "stream",
     "text": [
      "Tổng số tệp: 5\n"
     ]
    }
   ],
   "source": [
    "file_count = db.files.count_documents({})\n",
    "print(f\"Tổng số tệp: {file_count}\")\n"
   ]
  },
  {
   "cell_type": "code",
   "execution_count": 16,
   "metadata": {},
   "outputs": [
    {
     "name": "stdout",
     "output_type": "stream",
     "text": [
      "{'_id': ObjectId('670de259695b6ca1f22d515f'), 'file_id': 2, 'name': 'Presentation.pptx', 'size': 5120, 'owner': 'Tran Thi B', 'created_at': datetime.datetime(2024, 1, 15, 0, 0), 'shared': True}\n",
      "{'_id': ObjectId('670de259695b6ca1f22d5161'), 'file_id': 4, 'name': 'Spreadsheet.xlsx', 'size': 3072, 'owner': 'Pham Van D', 'created_at': datetime.datetime(2024, 1, 25, 0, 0), 'shared': True}\n"
     ]
    }
   ],
   "source": [
    "for file in db.files.find({ 'shared': True }):\n",
    "    print(file)\n"
   ]
  },
  {
   "cell_type": "code",
   "execution_count": 17,
   "metadata": {},
   "outputs": [
    {
     "name": "stdout",
     "output_type": "stream",
     "text": [
      "{'_id': 'Le Van C', 'count': 1}\n",
      "{'_id': 'Nguyen Thi E', 'count': 1}\n",
      "{'_id': 'Tran Thi B', 'count': 1}\n",
      "{'_id': 'Pham Van D', 'count': 1}\n",
      "{'_id': 'Nguyen Van A', 'count': 1}\n"
     ]
    }
   ],
   "source": [
    "owner_file_count = db.files.aggregate([\n",
    "    { '$group': { '_id': \"$owner\", 'count': { '$sum': 1 } } }\n",
    "])\n",
    "\n",
    "for owner in owner_file_count:\n",
    "    print(owner)\n"
   ]
  },
  {
   "cell_type": "code",
   "execution_count": 18,
   "metadata": {},
   "outputs": [
    {
     "data": {
      "text/plain": [
       "UpdateResult({'n': 1, 'nModified': 1, 'ok': 1.0, 'updatedExisting': True}, acknowledged=True)"
      ]
     },
     "execution_count": 18,
     "metadata": {},
     "output_type": "execute_result"
    }
   ],
   "source": [
    "db.files.update_one({ 'file_id': 1 }, { '$set': { 'shared': True } })\n"
   ]
  },
  {
   "cell_type": "code",
   "execution_count": 19,
   "metadata": {},
   "outputs": [
    {
     "data": {
      "text/plain": [
       "DeleteResult({'n': 1, 'ok': 1.0}, acknowledged=True)"
      ]
     },
     "execution_count": 19,
     "metadata": {},
     "output_type": "execute_result"
    }
   ],
   "source": [
    "db.files.delete_one({ 'file_id': 3 })\n"
   ]
  },
  {
   "cell_type": "code",
   "execution_count": 20,
   "metadata": {},
   "outputs": [
    {
     "name": "stdout",
     "output_type": "stream",
     "text": [
      "{'_id': ObjectId('670de259695b6ca1f22d515e'), 'file_id': 1, 'name': 'Report.pdf', 'size': 2048, 'owner': 'Nguyen Van A', 'created_at': datetime.datetime(2024, 1, 10, 0, 0), 'shared': True}\n",
      "{'_id': ObjectId('670de259695b6ca1f22d515f'), 'file_id': 2, 'name': 'Presentation.pptx', 'size': 5120, 'owner': 'Tran Thi B', 'created_at': datetime.datetime(2024, 1, 15, 0, 0), 'shared': True}\n",
      "{'_id': ObjectId('670de259695b6ca1f22d5161'), 'file_id': 4, 'name': 'Spreadsheet.xlsx', 'size': 3072, 'owner': 'Pham Van D', 'created_at': datetime.datetime(2024, 1, 25, 0, 0), 'shared': True}\n",
      "{'_id': ObjectId('670de259695b6ca1f22d5162'), 'file_id': 5, 'name': 'Notes.txt', 'size': 512, 'owner': 'Nguyen Thi E', 'created_at': datetime.datetime(2024, 1, 30, 0, 0), 'shared': False}\n"
     ]
    }
   ],
   "source": [
    "for file in db.files.find():\n",
    "    print(file)\n"
   ]
  },
  {
   "cell_type": "code",
   "execution_count": 21,
   "metadata": {},
   "outputs": [
    {
     "name": "stdout",
     "output_type": "stream",
     "text": [
      "{'_id': ObjectId('670de259695b6ca1f22d515e'), 'file_id': 1, 'name': 'Report.pdf', 'size': 2048, 'owner': 'Nguyen Van A', 'created_at': datetime.datetime(2024, 1, 10, 0, 0), 'shared': True}\n"
     ]
    }
   ],
   "source": [
    "for file in db.files.find({'owner': \"Nguyen Van A\"}):\n",
    "    print(file)"
   ]
  },
  {
   "cell_type": "code",
   "execution_count": 22,
   "metadata": {},
   "outputs": [
    {
     "name": "stdout",
     "output_type": "stream",
     "text": [
      "{'_id': ObjectId('670de259695b6ca1f22d515f'), 'file_id': 2, 'name': 'Presentation.pptx', 'size': 5120, 'owner': 'Tran Thi B', 'created_at': datetime.datetime(2024, 1, 15, 0, 0), 'shared': True}\n"
     ]
    }
   ],
   "source": [
    "file_max = db.files.find().sort({'size': -1}).limit(1)\n",
    "for file in file_max:\n",
    "    print(file)"
   ]
  },
  {
   "cell_type": "code",
   "execution_count": 28,
   "metadata": {},
   "outputs": [
    {
     "name": "stdout",
     "output_type": "stream",
     "text": [
      "1\n"
     ]
    }
   ],
   "source": [
    "file_min = db.files.count_documents({ 'size': { '$lt': 1000 } })\n",
    "print(file_min)"
   ]
  },
  {
   "cell_type": "code",
   "execution_count": 29,
   "metadata": {},
   "outputs": [
    {
     "name": "stdout",
     "output_type": "stream",
     "text": [
      "{'_id': ObjectId('670de259695b6ca1f22d515e'), 'file_id': 1, 'name': 'Report.pdf', 'size': 2048, 'owner': 'Nguyen Van A', 'created_at': datetime.datetime(2024, 1, 10, 0, 0), 'shared': True}\n",
      "{'_id': ObjectId('670de259695b6ca1f22d515f'), 'file_id': 2, 'name': 'Presentation.pptx', 'size': 5120, 'owner': 'Tran Thi B', 'created_at': datetime.datetime(2024, 1, 15, 0, 0), 'shared': True}\n",
      "{'_id': ObjectId('670de259695b6ca1f22d5161'), 'file_id': 4, 'name': 'Spreadsheet.xlsx', 'size': 3072, 'owner': 'Pham Van D', 'created_at': datetime.datetime(2024, 1, 25, 0, 0), 'shared': True}\n",
      "{'_id': ObjectId('670de259695b6ca1f22d5162'), 'file_id': 5, 'name': 'Notes.txt', 'size': 512, 'owner': 'Nguyen Thi E', 'created_at': datetime.datetime(2024, 1, 30, 0, 0), 'shared': False}\n"
     ]
    }
   ],
   "source": [
    "all_files_created_October = db.files.find({\n",
    "    'created_at': {\n",
    "        '$gte': datetime(2024, 1, 1),\n",
    "        '$lt': datetime(2024, 2, 1)\n",
    "    }\n",
    "})\n",
    "for file in all_files_created_October:\n",
    "    print(file)"
   ]
  },
  {
   "cell_type": "code",
   "execution_count": 30,
   "metadata": {},
   "outputs": [
    {
     "data": {
      "text/plain": [
       "UpdateResult({'n': 1, 'nModified': 1, 'ok': 1.0, 'updatedExisting': True}, acknowledged=True)"
      ]
     },
     "execution_count": 30,
     "metadata": {},
     "output_type": "execute_result"
    }
   ],
   "source": [
    "db.files.update_one({ 'file_id': 4 }, { '$set': { 'name': \"New Spreadsheet.xlsx\" } })"
   ]
  },
  {
   "cell_type": "code",
   "execution_count": 32,
   "metadata": {},
   "outputs": [
    {
     "data": {
      "text/plain": [
       "DeleteResult({'n': 1, 'ok': 1.0}, acknowledged=True)"
      ]
     },
     "execution_count": 32,
     "metadata": {},
     "output_type": "execute_result"
    }
   ],
   "source": [
    "db.files.delete_many({ 'size': { '$lt': 1000 } })"
   ]
  },
  {
   "cell_type": "code",
   "execution_count": 34,
   "metadata": {},
   "outputs": [
    {
     "name": "stdout",
     "output_type": "stream",
     "text": [
      "{'_id': ObjectId('670de259695b6ca1f22d515e'), 'file_id': 1, 'name': 'Report.pdf', 'size': 2048, 'owner': 'Nguyen Van A', 'created_at': datetime.datetime(2024, 1, 10, 0, 0), 'shared': True}\n",
      "{'_id': ObjectId('670de259695b6ca1f22d515f'), 'file_id': 2, 'name': 'Presentation.pptx', 'size': 5120, 'owner': 'Tran Thi B', 'created_at': datetime.datetime(2024, 1, 15, 0, 0), 'shared': True}\n",
      "{'_id': ObjectId('670de259695b6ca1f22d5161'), 'file_id': 4, 'name': 'New Spreadsheet.xlsx', 'size': 3072, 'owner': 'Pham Van D', 'created_at': datetime.datetime(2024, 1, 25, 0, 0), 'shared': True}\n"
     ]
    }
   ],
   "source": [
    "for file in db.files.find():\n",
    "    print(file)"
   ]
  }
 ],
 "metadata": {
  "kernelspec": {
   "display_name": "Python 3",
   "language": "python",
   "name": "python3"
  },
  "language_info": {
   "codemirror_mode": {
    "name": "ipython",
    "version": 3
   },
   "file_extension": ".py",
   "mimetype": "text/x-python",
   "name": "python",
   "nbconvert_exporter": "python",
   "pygments_lexer": "ipython3",
   "version": "3.11.5"
  }
 },
 "nbformat": 4,
 "nbformat_minor": 2
}
