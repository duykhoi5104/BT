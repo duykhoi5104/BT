{
 "cells": [
  {
   "cell_type": "code",
   "execution_count": 17,
   "metadata": {},
   "outputs": [
    {
     "name": "stdout",
     "output_type": "stream",
     "text": [
      "Requirement already satisfied: pymongo in c:\\users\\khoi0\\appdata\\local\\programs\\python\\python311\\lib\\site-packages (4.10.1)\n",
      "Requirement already satisfied: dnspython<3.0.0,>=1.16.0 in c:\\users\\khoi0\\appdata\\local\\programs\\python\\python311\\lib\\site-packages (from pymongo) (2.7.0)\n",
      "Note: you may need to restart the kernel to use updated packages.\n"
     ]
    }
   ],
   "source": [
    "pip install pymongo"
   ]
  },
  {
   "cell_type": "code",
   "execution_count": 18,
   "metadata": {},
   "outputs": [],
   "source": [
    "from pymongo import MongoClient\n",
    "from datetime import datetime"
   ]
  },
  {
   "cell_type": "code",
   "execution_count": 19,
   "metadata": {},
   "outputs": [],
   "source": [
    "# kết nối tới mongo\n",
    "client = MongoClient('mongodb://localhost:27017/')\n",
    "client.drop_database('tiktokABC')"
   ]
  },
  {
   "cell_type": "code",
   "execution_count": 20,
   "metadata": {},
   "outputs": [],
   "source": [
    "# lấy db bất kì\n",
    "# chọn dữ liệu tiktok\n",
    "db = client['tiktokABC']"
   ]
  },
  {
   "cell_type": "code",
   "execution_count": 21,
   "metadata": {},
   "outputs": [],
   "source": [
    "# tạo các collection\n",
    "users_collection = db['users']\n",
    "videos_collection = db['videos']"
   ]
  },
  {
   "cell_type": "code",
   "execution_count": 22,
   "metadata": {},
   "outputs": [],
   "source": [
    "# thêm dữ liệu người dùng\n",
    "users_data = [\n",
    "    { 'user_id': 1, 'username': \"user1\", 'full_name': \"Nguyen Van A\", 'followers': 1500, 'following': 200 },\n",
    "    { 'user_id': 2, 'username': \"user2\", 'full_name': \"Tran Thi B\", 'followers': 2000, 'following': 300 },\n",
    "    { 'user_id': 3, 'username': \"user3\", 'full_name': \"Le Van C\", 'followers': 500, 'following': 100 }\n",
    "]"
   ]
  },
  {
   "cell_type": "code",
   "execution_count": 23,
   "metadata": {},
   "outputs": [
    {
     "data": {
      "text/plain": [
       "InsertManyResult([ObjectId('670dd89b006a5e87bc6a03a2'), ObjectId('670dd89b006a5e87bc6a03a3'), ObjectId('670dd89b006a5e87bc6a03a4')], acknowledged=True)"
      ]
     },
     "execution_count": 23,
     "metadata": {},
     "output_type": "execute_result"
    }
   ],
   "source": [
    "users_collection.insert_many(users_data)"
   ]
  },
  {
   "cell_type": "code",
   "execution_count": 24,
   "metadata": {},
   "outputs": [],
   "source": [
    "from datetime import datetime\n",
    "\n",
    "videos_data = [\n",
    "    { 'video_id': 1, 'user_id': 1, 'title': \"Video 1\", 'views': 10000, 'likes': 500, 'created_at': datetime(2024, 1, 1) },\n",
    "    { 'video_id': 2, 'user_id': 2, 'title': \"Video 2\", 'views': 20000, 'likes': 1500, 'created_at': datetime(2024, 1, 5) },\n",
    "    { 'video_id': 3, 'user_id': 3, 'title': \"Video 3\", 'views': 5000, 'likes': 200, 'created_at': datetime(2024, 1, 10) }\n",
    "]\n"
   ]
  },
  {
   "cell_type": "code",
   "execution_count": 25,
   "metadata": {},
   "outputs": [
    {
     "data": {
      "text/plain": [
       "InsertManyResult([ObjectId('670dd89b006a5e87bc6a03a5'), ObjectId('670dd89b006a5e87bc6a03a6'), ObjectId('670dd89b006a5e87bc6a03a7')], acknowledged=True)"
      ]
     },
     "execution_count": 25,
     "metadata": {},
     "output_type": "execute_result"
    }
   ],
   "source": [
    "videos_collection.insert_many(videos_data)"
   ]
  },
  {
   "cell_type": "code",
   "execution_count": 26,
   "metadata": {},
   "outputs": [
    {
     "name": "stdout",
     "output_type": "stream",
     "text": [
      "Tất cả người dùng:\n",
      "{'_id': ObjectId('670dd89b006a5e87bc6a03a2'), 'user_id': 1, 'username': 'user1', 'full_name': 'Nguyen Van A', 'followers': 1500, 'following': 200}\n",
      "{'_id': ObjectId('670dd89b006a5e87bc6a03a3'), 'user_id': 2, 'username': 'user2', 'full_name': 'Tran Thi B', 'followers': 2000, 'following': 300}\n",
      "{'_id': ObjectId('670dd89b006a5e87bc6a03a4'), 'user_id': 3, 'username': 'user3', 'full_name': 'Le Van C', 'followers': 500, 'following': 100}\n"
     ]
    }
   ],
   "source": [
    "print(\"Tất cả người dùng:\")\n",
    "for user in users_collection.find():\n",
    "    print(user)"
   ]
  },
  {
   "cell_type": "code",
   "execution_count": 27,
   "metadata": {},
   "outputs": [
    {
     "name": "stdout",
     "output_type": "stream",
     "text": [
      "Video có nhiều lượt xem nhất:\n",
      "{'_id': ObjectId('670dd89b006a5e87bc6a03a5'), 'video_id': 1, 'user_id': 1, 'title': 'Video 1', 'views': 10000, 'likes': 500, 'created_at': datetime.datetime(2024, 1, 1, 0, 0)}\n"
     ]
    }
   ],
   "source": [
    "# tìm video có nhiều lượt xem nhất\n",
    "print(\"Video có nhiều lượt xem nhất:\")\n",
    "mosted_viewed_video = videos_collection.find().sort('view', -1).limit(1)\n",
    "for user in mosted_viewed_video:\n",
    "    print(user)"
   ]
  },
  {
   "cell_type": "code",
   "execution_count": 28,
   "metadata": {},
   "outputs": [
    {
     "name": "stdout",
     "output_type": "stream",
     "text": [
      "/nTất cả video của người dùng 'user1':\n",
      "{'_id': ObjectId('670dd89b006a5e87bc6a03a5'), 'video_id': 1, 'user_id': 1, 'title': 'Video 1', 'views': 10000, 'likes': 500, 'created_at': datetime.datetime(2024, 1, 1, 0, 0)}\n"
     ]
    }
   ],
   "source": [
    "# tìm tất cả video của người dùng có username là \"user1\"\n",
    "print(\"/nTất cả video của người dùng 'user1':\")\n",
    "user_videos = videos_collection.find({'user_id': 1})\n",
    "for video in user_videos:\n",
    "    print(video)"
   ]
  },
  {
   "cell_type": "code",
   "execution_count": 30,
   "metadata": {},
   "outputs": [
    {
     "data": {
      "text/plain": [
       "UpdateResult({'n': 1, 'nModified': 1, 'ok': 1.0, 'updatedExisting': True}, acknowledged=True)"
      ]
     },
     "execution_count": 30,
     "metadata": {},
     "output_type": "execute_result"
    }
   ],
   "source": [
    "# Cập nhật dữ liệu\n",
    "users_collection.update_one({'user_id': 1}, {'$set': {'followers': 2000}})"
   ]
  },
  {
   "cell_type": "code",
   "execution_count": 31,
   "metadata": {},
   "outputs": [
    {
     "data": {
      "text/plain": [
       "DeleteResult({'n': 1, 'ok': 1.0}, acknowledged=True)"
      ]
     },
     "execution_count": 31,
     "metadata": {},
     "output_type": "execute_result"
    }
   ],
   "source": [
    "# Xoá video có 'video_id' là 3\n",
    "videos_collection.delete_one({'video_id': 3})"
   ]
  },
  {
   "cell_type": "code",
   "execution_count": 32,
   "metadata": {},
   "outputs": [
    {
     "name": "stdout",
     "output_type": "stream",
     "text": [
      "{'_id': ObjectId('670dd89b006a5e87bc6a03a2'), 'user_id': 1, 'username': 'user1', 'full_name': 'Nguyen Van A', 'followers': 2000, 'following': 200}\n",
      "{'_id': ObjectId('670dd89b006a5e87bc6a03a3'), 'user_id': 2, 'username': 'user2', 'full_name': 'Tran Thi B', 'followers': 2000, 'following': 300}\n",
      "{'_id': ObjectId('670dd89b006a5e87bc6a03a4'), 'user_id': 3, 'username': 'user3', 'full_name': 'Le Van C', 'followers': 500, 'following': 100}\n",
      "\n",
      "Dữ liệu video sau khi xóa:\n",
      "{'_id': ObjectId('670dd89b006a5e87bc6a03a5'), 'video_id': 1, 'user_id': 1, 'title': 'Video 1', 'views': 10000, 'likes': 500, 'created_at': datetime.datetime(2024, 1, 1, 0, 0)}\n",
      "{'_id': ObjectId('670dd89b006a5e87bc6a03a6'), 'video_id': 2, 'user_id': 2, 'title': 'Video 2', 'views': 20000, 'likes': 1500, 'created_at': datetime.datetime(2024, 1, 5, 0, 0)}\n"
     ]
    }
   ],
   "source": [
    "# Xem lại dữ liệu sau khi cập nhật và xóa \n",
    "for user in users_collection.find():\n",
    "    print(user)\n",
    "\n",
    "print(\"\\nDữ liệu video sau khi xóa:\")\n",
    "for video in videos_collection.find():\n",
    "    print(video)\n"
   ]
  },
  {
   "cell_type": "code",
   "execution_count": 33,
   "metadata": {},
   "outputs": [],
   "source": [
    "# đóng kết nối\n",
    "client.close()"
   ]
  }
 ],
 "metadata": {
  "kernelspec": {
   "display_name": "Python 3",
   "language": "python",
   "name": "python3"
  },
  "language_info": {
   "codemirror_mode": {
    "name": "ipython",
    "version": 3
   },
   "file_extension": ".py",
   "mimetype": "text/x-python",
   "name": "python",
   "nbconvert_exporter": "python",
   "pygments_lexer": "ipython3",
   "version": "3.11.5"
  }
 },
 "nbformat": 4,
 "nbformat_minor": 2
}
